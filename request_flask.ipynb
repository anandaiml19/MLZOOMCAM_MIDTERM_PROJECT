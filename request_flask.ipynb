{
 "cells": [
  {
   "cell_type": "code",
   "execution_count": 12,
   "id": "73bfc135",
   "metadata": {},
   "outputs": [
    {
     "data": {
      "application/javascript": [
       "IPython.notebook.set_autosave_interval(0)"
      ]
     },
     "metadata": {},
     "output_type": "display_data"
    },
    {
     "name": "stdout",
     "output_type": "stream",
     "text": [
      "Autosave disabled\n"
     ]
    }
   ],
   "source": [
    "%autosave 0"
   ]
  },
  {
   "cell_type": "code",
   "execution_count": 13,
   "id": "9fe863dd",
   "metadata": {},
   "outputs": [],
   "source": [
    "import requests"
   ]
  },
  {
   "cell_type": "code",
   "execution_count": 14,
   "id": "c6ac2fd1",
   "metadata": {},
   "outputs": [],
   "source": [
    "url='http://localhost:9696/deploy'"
   ]
  },
  {
   "cell_type": "code",
   "execution_count": 15,
   "id": "8cf5c434",
   "metadata": {},
   "outputs": [],
   "source": [
    "customeer={'journey_day': 'Sunday',\n",
    " 'airline': 'Indigo',\n",
    " 'class': 'Economy',\n",
    " 'source': 'Bangalore',\n",
    " 'departure': '6 AM - 12 PM',\n",
    " 'total_stops': '1-stop',\n",
    " 'arrival': '6 AM - 12 PM',\n",
    " 'destination': 'Kolkata',\n",
    " 'day_of_month': 19,\n",
    " 'days_left': 35,\n",
    " 'duration_in_hours': 5.6667}"
   ]
  },
  {
   "cell_type": "code",
   "execution_count": 16,
   "id": "5e4bf9a9",
   "metadata": {},
   "outputs": [
    {
     "data": {
      "text/plain": [
       "{'Airline Ticket Price': 7080.93701171875}"
      ]
     },
     "execution_count": 16,
     "metadata": {},
     "output_type": "execute_result"
    }
   ],
   "source": [
    "requests.post(url,json=customeer).json()"
   ]
  },
  {
   "cell_type": "code",
   "execution_count": null,
   "id": "7e96fc77",
   "metadata": {},
   "outputs": [],
   "source": []
  }
 ],
 "metadata": {
  "kernelspec": {
   "display_name": "airlinekernel",
   "language": "python",
   "name": "airlinekernel"
  },
  "language_info": {
   "codemirror_mode": {
    "name": "ipython",
    "version": 3
   },
   "file_extension": ".py",
   "mimetype": "text/x-python",
   "name": "python",
   "nbconvert_exporter": "python",
   "pygments_lexer": "ipython3",
   "version": "3.9.12"
  }
 },
 "nbformat": 4,
 "nbformat_minor": 5
}
